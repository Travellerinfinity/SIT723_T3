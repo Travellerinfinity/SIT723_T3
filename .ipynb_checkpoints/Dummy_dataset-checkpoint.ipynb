{
 "cells": [
  {
   "cell_type": "code",
   "execution_count": 111,
   "id": "discrete-algebra",
   "metadata": {},
   "outputs": [],
   "source": [
    "import pandas as pd \n",
    "import numpy as np\n",
    "import datetime as dt\n",
    "import random\n",
    "import matplotlib.pyplot as plt"
   ]
  },
  {
   "cell_type": "code",
   "execution_count": 112,
   "id": "changed-planner",
   "metadata": {},
   "outputs": [],
   "source": [
    "columns = ['Project_ID','Organization','Project_start_date','Project_end_date','Organization_size','IT_dpt_size',\n",
    "           'Customer_type','Estimated_Duration','Actual_Duration','Project_Profit_Loss_percent','Project_type',\n",
    "           'Development_type','Estimated_effort','Actual_effort','Management_clarity','Training_effort','User_resistance',\n",
    "           'Software_licence_cost','hardware_cost','Development_cost','maintainance_cost','Additional_cost',\n",
    "           'Estimated_total_cost','Actual_total_cost','Requirement_stability','Manager_experience','Development_team_experience',\n",
    "           'Maintanainance_support_team_experience','Machine_learning_team_experience','Data_Analysis_team experience',\n",
    "           'Team_size','Daily_work_hours','Level_of_outsourcing','Software_availability','Software_accuracy',\n",
    "           'Software_stability','Cloud_platform_type','Computing_Tier','Programming_language_used','DB_used','Open_source_tool_used','Degree_of_software_reuse',\n",
    "           'Increase_in_productivity','Change_in_waiting_time','Change_avg_wait_time','Change_avg_call_duration',\n",
    "           'Change_in_revenue','Overall_ROI']"
   ]
  },
  {
   "cell_type": "code",
   "execution_count": 113,
   "id": "arranged-berry",
   "metadata": {},
   "outputs": [],
   "source": [
    "df = pd.DataFrame(columns= columns)"
   ]
  },
  {
   "cell_type": "code",
   "execution_count": 114,
   "id": "italian-democrat",
   "metadata": {},
   "outputs": [
    {
     "data": {
      "text/plain": [
       "(0, 48)"
      ]
     },
     "execution_count": 114,
     "metadata": {},
     "output_type": "execute_result"
    }
   ],
   "source": [
    "df.shape"
   ]
  },
  {
   "cell_type": "code",
   "execution_count": 115,
   "id": "dressed-figure",
   "metadata": {},
   "outputs": [],
   "source": [
    "organizations = {#Company : Organization size 0, IT_dept_size 1, Customer_type 2, Management clarity 3, development cost 4, \n",
    "    # maintainance cost 5, additional cost 6, user resistance 7, Manager experience 8, Development Team experience 9, \n",
    "    #Maintainance support experience 10, machine learning team experience 11, data analysis team experience 12, team size 13, \n",
    "    #daily work hours 14, level of outsourcing 15, \n",
    "                'Company_1':[2,2,1,7,7,6,2,3,5,7,6,8,7,24,8,5],\n",
    "                'Company_2':[5,5,2,7,7,6,2,3,5,8,6,8,7, 6,8,2],\n",
    "                'Company_3':[4,4,3,7,7,6,2,3,5,4,6,8,7,12,8,3],\n",
    "                'Company_4':[2,2,4,7,7,6,2,3,5,6,6,8,7,14,8,1],\n",
    "                'Company_5':[5,5,5,7,7,6,2,3,5,5,6,8,7,44,8,5],\n",
    "                'Company_6':[4,4,6,7,7,6,2,3,5,8,6,8,7,20,8,4],\n",
    "                'Company_7':[3,3,7,7,7,6,2,3,5,6,6,8,7, 8,8,2]\n",
    "}\n",
    "\n",
    "projects = {#project type : 'Software_availability' 0,'Software_accuracy' 1,'Software_stability' 2,'Programming_language_used' 3,\n",
    "    #'DB_used' 4,'Open_source_tool_used' 5,'Degree_of_software_reuse 6'\n",
    "    'button-based':              [85,90,80,'Python','Oracle','T1',6],\n",
    "    'Linguistic Based':          [90,72,82,'Python','MySQL' ,'T2',7],\n",
    "    'Keyword recognition-based': [85,85,70,'R','MySQL','T3',6],\n",
    "    'Machine Learning chatbot':  [95,85,75,'Java','MongoDB','T3',4],\n",
    "    'Hybrid model':              [75,90,95,'Java','Oracle','T4',5],\n",
    "    'Voice Bots':                [80,65,75,'ASP.Net','PLSQL','T5',6]\n",
    "}\n",
    "\n",
    "development_types = ['Waterfall','Feature-Driven','Agile','Scrum','Extreme Programming','Lean']\n",
    "cloud_platform_types = [\"AWS\",\"Azure\",\"GCP\",\"IBM\",\"Oracle\",\"Salesforce\"] \n",
    "cloud_tiers = ['T1','T2','T3','T4','T5']\n"
   ]
  },
  {
   "cell_type": "code",
   "execution_count": 116,
   "id": "olympic-singapore",
   "metadata": {},
   "outputs": [],
   "source": [
    "#Assigning Random Variables to the columns in a specific range\n",
    "\n",
    "for i in range(1000):\n",
    "    organization = random.choice(list(organizations.keys()))\n",
    "    organization_size = organizations[organization][0]\n",
    "    it_dept_size = organizations[organization][1]\n",
    "    customer_type = organizations[organization][2]\n",
    "    management_clarity = organizations[organization][3] \n",
    "    development_cost = organizations[organization][4] \n",
    "    maintainance_cost = organizations[organization][5] \n",
    "    additional_cost = organizations[organization][6]  \n",
    "    user_resistance = organizations[organization][7] \n",
    "    manager_experience = organizations[organization][8] \n",
    "    development_team_experience = organizations[organization][9] \n",
    "    maintainance_support_experience = organizations[organization][10] \n",
    "    machine_learning_team_experience = organizations[organization][11]\n",
    "    data_analysis_team_experience = organizations[organization][12] \n",
    "    team_size = organizations[organization][13] \n",
    "    daily_work_hours = organizations[organization][14] \n",
    "    level_of_outsourcing = organizations[organization][15]\n",
    "    \n",
    "    project = random.choice(list(projects.keys()))\n",
    "    software_availability = projects[project][0]\n",
    "    software_accuracy = projects[project][1]\n",
    "    software_stability = projects[project][2]\n",
    "    \n",
    "    cloud_platform_type = random.choice([\"AWS\",\"Azure\",\"GCP\",\"IBM\",\"Oracle\",\"Salesforce\"])\n",
    "    computing_tier = random.choice(['T1','T2','T3','T4','T5'])\n",
    "\n",
    "\n",
    "    programming_language_used = projects[project][3]\n",
    "    db_used = projects[project][4]\n",
    "    open_source_tool_used = projects[project][5]\n",
    "    degree_of_software_reuse = projects[project][6]\n",
    "    \n",
    "    increase_in_productivity = random.randint(0, 100)\n",
    "    change_in_waiting_time = random.randint(-100, 100)\n",
    "    change_avg_call_duration = random.randint(-100, 100)\n",
    "    change_in_revenue = random.randint(-100, 100)\n",
    "    development_type = random.choice(development_types)\n",
    "    \n",
    "    start_date = dt.date(2019, 1, 1)\n",
    "    end_date = dt.date(2022, 12, 31)\n",
    "\n",
    "    time_between_dates = end_date - start_date\n",
    "    days_between_dates = time_between_dates.days\n",
    "    random_number_of_days = random.randrange(days_between_dates)\n",
    "    project_start_date = start_date + dt.timedelta(days=random_number_of_days)\n",
    "    project_end_date = project_start_date + dt.timedelta(days=random_number_of_days)\n",
    "    \n",
    "    estimated_duration = random_number_of_days \n",
    "    \n",
    "\n",
    "    \n",
    "    df.loc[i] = [i,organization,project_start_date,project_end_date,organization_size, it_dept_size, customer_type,estimated_duration,\"NA\",\"NA\",project,development_type,\n",
    "                 \"NA\",\"NA\",management_clarity,\"NA\",user_resistance,\"NA\",\"NA\",development_cost,maintainance_cost,additional_cost,\"NA\",\"NA\",\"NA\",manager_experience,\n",
    "                 development_team_experience,maintainance_support_experience,machine_learning_team_experience,data_analysis_team_experience,team_size,daily_work_hours,\n",
    "                 level_of_outsourcing,software_availability,software_accuracy,software_stability,cloud_platform_type,computing_tier,programming_language_used,db_used,open_source_tool_used,degree_of_software_reuse,\n",
    "                 increase_in_productivity,change_in_waiting_time,change_in_waiting_time,change_avg_call_duration,change_in_revenue,\"NA\"]\n",
    "\n",
    " "
   ]
  },
  {
   "cell_type": "code",
   "execution_count": 117,
   "id": "falling-missouri",
   "metadata": {},
   "outputs": [
    {
     "data": {
      "text/html": [
       "<div>\n",
       "<style scoped>\n",
       "    .dataframe tbody tr th:only-of-type {\n",
       "        vertical-align: middle;\n",
       "    }\n",
       "\n",
       "    .dataframe tbody tr th {\n",
       "        vertical-align: top;\n",
       "    }\n",
       "\n",
       "    .dataframe thead th {\n",
       "        text-align: right;\n",
       "    }\n",
       "</style>\n",
       "<table border=\"1\" class=\"dataframe\">\n",
       "  <thead>\n",
       "    <tr style=\"text-align: right;\">\n",
       "      <th></th>\n",
       "      <th>Project_ID</th>\n",
       "      <th>Organization</th>\n",
       "      <th>Project_start_date</th>\n",
       "      <th>Project_end_date</th>\n",
       "      <th>Organization_size</th>\n",
       "      <th>IT_dpt_size</th>\n",
       "      <th>Customer_type</th>\n",
       "      <th>Estimated_Duration</th>\n",
       "      <th>Actual_Duration</th>\n",
       "      <th>Project_Profit_Loss_percent</th>\n",
       "      <th>...</th>\n",
       "      <th>Programming_language_used</th>\n",
       "      <th>DB_used</th>\n",
       "      <th>Open_source_tool_used</th>\n",
       "      <th>Degree_of_software_reuse</th>\n",
       "      <th>Increase_in_productivity</th>\n",
       "      <th>Change_in_waiting_time</th>\n",
       "      <th>Change_avg_wait_time</th>\n",
       "      <th>Change_avg_call_duration</th>\n",
       "      <th>Change_in_revenue</th>\n",
       "      <th>Overall_ROI</th>\n",
       "    </tr>\n",
       "  </thead>\n",
       "  <tbody>\n",
       "    <tr>\n",
       "      <th>0</th>\n",
       "      <td>0</td>\n",
       "      <td>Company_4</td>\n",
       "      <td>2022-02-23</td>\n",
       "      <td>2025-04-17</td>\n",
       "      <td>2</td>\n",
       "      <td>2</td>\n",
       "      <td>4</td>\n",
       "      <td>1149</td>\n",
       "      <td>NA</td>\n",
       "      <td>NA</td>\n",
       "      <td>...</td>\n",
       "      <td>ASP.Net</td>\n",
       "      <td>PLSQL</td>\n",
       "      <td>T5</td>\n",
       "      <td>6</td>\n",
       "      <td>21</td>\n",
       "      <td>-36</td>\n",
       "      <td>-36</td>\n",
       "      <td>14</td>\n",
       "      <td>-6</td>\n",
       "      <td>NA</td>\n",
       "    </tr>\n",
       "    <tr>\n",
       "      <th>1</th>\n",
       "      <td>1</td>\n",
       "      <td>Company_5</td>\n",
       "      <td>2019-10-24</td>\n",
       "      <td>2020-08-15</td>\n",
       "      <td>5</td>\n",
       "      <td>5</td>\n",
       "      <td>5</td>\n",
       "      <td>296</td>\n",
       "      <td>NA</td>\n",
       "      <td>NA</td>\n",
       "      <td>...</td>\n",
       "      <td>Python</td>\n",
       "      <td>MySQL</td>\n",
       "      <td>T2</td>\n",
       "      <td>7</td>\n",
       "      <td>23</td>\n",
       "      <td>99</td>\n",
       "      <td>99</td>\n",
       "      <td>-78</td>\n",
       "      <td>-7</td>\n",
       "      <td>NA</td>\n",
       "    </tr>\n",
       "    <tr>\n",
       "      <th>2</th>\n",
       "      <td>2</td>\n",
       "      <td>Company_6</td>\n",
       "      <td>2019-02-14</td>\n",
       "      <td>2019-03-30</td>\n",
       "      <td>4</td>\n",
       "      <td>4</td>\n",
       "      <td>6</td>\n",
       "      <td>44</td>\n",
       "      <td>NA</td>\n",
       "      <td>NA</td>\n",
       "      <td>...</td>\n",
       "      <td>Python</td>\n",
       "      <td>Oracle</td>\n",
       "      <td>T1</td>\n",
       "      <td>6</td>\n",
       "      <td>89</td>\n",
       "      <td>92</td>\n",
       "      <td>92</td>\n",
       "      <td>-4</td>\n",
       "      <td>49</td>\n",
       "      <td>NA</td>\n",
       "    </tr>\n",
       "    <tr>\n",
       "      <th>3</th>\n",
       "      <td>3</td>\n",
       "      <td>Company_7</td>\n",
       "      <td>2020-03-20</td>\n",
       "      <td>2021-06-07</td>\n",
       "      <td>3</td>\n",
       "      <td>3</td>\n",
       "      <td>7</td>\n",
       "      <td>444</td>\n",
       "      <td>NA</td>\n",
       "      <td>NA</td>\n",
       "      <td>...</td>\n",
       "      <td>Java</td>\n",
       "      <td>Oracle</td>\n",
       "      <td>T4</td>\n",
       "      <td>5</td>\n",
       "      <td>40</td>\n",
       "      <td>-33</td>\n",
       "      <td>-33</td>\n",
       "      <td>-57</td>\n",
       "      <td>-39</td>\n",
       "      <td>NA</td>\n",
       "    </tr>\n",
       "    <tr>\n",
       "      <th>4</th>\n",
       "      <td>4</td>\n",
       "      <td>Company_1</td>\n",
       "      <td>2019-06-21</td>\n",
       "      <td>2019-12-09</td>\n",
       "      <td>2</td>\n",
       "      <td>2</td>\n",
       "      <td>1</td>\n",
       "      <td>171</td>\n",
       "      <td>NA</td>\n",
       "      <td>NA</td>\n",
       "      <td>...</td>\n",
       "      <td>Python</td>\n",
       "      <td>Oracle</td>\n",
       "      <td>T1</td>\n",
       "      <td>6</td>\n",
       "      <td>32</td>\n",
       "      <td>74</td>\n",
       "      <td>74</td>\n",
       "      <td>88</td>\n",
       "      <td>-87</td>\n",
       "      <td>NA</td>\n",
       "    </tr>\n",
       "  </tbody>\n",
       "</table>\n",
       "<p>5 rows × 48 columns</p>\n",
       "</div>"
      ],
      "text/plain": [
       "  Project_ID Organization Project_start_date Project_end_date  \\\n",
       "0          0    Company_4         2022-02-23       2025-04-17   \n",
       "1          1    Company_5         2019-10-24       2020-08-15   \n",
       "2          2    Company_6         2019-02-14       2019-03-30   \n",
       "3          3    Company_7         2020-03-20       2021-06-07   \n",
       "4          4    Company_1         2019-06-21       2019-12-09   \n",
       "\n",
       "  Organization_size IT_dpt_size Customer_type Estimated_Duration  \\\n",
       "0                 2           2             4               1149   \n",
       "1                 5           5             5                296   \n",
       "2                 4           4             6                 44   \n",
       "3                 3           3             7                444   \n",
       "4                 2           2             1                171   \n",
       "\n",
       "  Actual_Duration Project_Profit_Loss_percent  ... Programming_language_used  \\\n",
       "0              NA                          NA  ...                   ASP.Net   \n",
       "1              NA                          NA  ...                    Python   \n",
       "2              NA                          NA  ...                    Python   \n",
       "3              NA                          NA  ...                      Java   \n",
       "4              NA                          NA  ...                    Python   \n",
       "\n",
       "  DB_used Open_source_tool_used Degree_of_software_reuse  \\\n",
       "0   PLSQL                    T5                        6   \n",
       "1   MySQL                    T2                        7   \n",
       "2  Oracle                    T1                        6   \n",
       "3  Oracle                    T4                        5   \n",
       "4  Oracle                    T1                        6   \n",
       "\n",
       "  Increase_in_productivity Change_in_waiting_time Change_avg_wait_time  \\\n",
       "0                       21                    -36                  -36   \n",
       "1                       23                     99                   99   \n",
       "2                       89                     92                   92   \n",
       "3                       40                    -33                  -33   \n",
       "4                       32                     74                   74   \n",
       "\n",
       "  Change_avg_call_duration Change_in_revenue Overall_ROI  \n",
       "0                       14                -6          NA  \n",
       "1                      -78                -7          NA  \n",
       "2                       -4                49          NA  \n",
       "3                      -57               -39          NA  \n",
       "4                       88               -87          NA  \n",
       "\n",
       "[5 rows x 48 columns]"
      ]
     },
     "execution_count": 117,
     "metadata": {},
     "output_type": "execute_result"
    }
   ],
   "source": [
    "df.set_index('Project_ID')\n",
    "df.head()"
   ]
  },
  {
   "cell_type": "code",
   "execution_count": 119,
   "id": "pharmaceutical-sheffield",
   "metadata": {},
   "outputs": [],
   "source": [
    "#Random duration values from beta distribution\n",
    "df['Actual_Duration'] = df['Estimated_Duration'].mean()*np.random.beta(1.2,1.5, size=1000)\n",
    "# taking random values of a and b\n",
    "\n",
    "df['Actual_Duration'] = df['Actual_Duration'].round()"
   ]
  },
  {
   "cell_type": "code",
   "execution_count": 120,
   "id": "twenty-suggestion",
   "metadata": {},
   "outputs": [
    {
     "data": {
      "image/png": "[encoded data removed]",
      "text/plain": [
       "<Figure size 360x360 with 1 Axes>"
      ]
     },
     "metadata": {
      "needs_background": "light"
     },
     "output_type": "display_data"
    }
   ],
   "source": [
    "#plt.hist(np.random.beta(1,1.5, size=1000))\n",
    "plt.hist(df['Actual_Duration'], bins = 50)\n",
    "plt.show()"
   ]
  },
  {
   "cell_type": "code",
   "execution_count": 122,
   "id": "central-syndicate",
   "metadata": {},
   "outputs": [],
   "source": [
    "#introducing noramlly distributed uncertainity in all other variables with different values of Mu and Sigma for seemlingly independant variable\n",
    "\n",
    "mu, sigma = 4, 0.8 # mean and standard deviation\n",
    "df['Organization_size'] = np.random.normal(mu, sigma, size = 1000)\n",
    "df['Organization_size'] = df['Organization_size'].round()"
   ]
  },
  {
   "cell_type": "code",
   "execution_count": 123,
   "id": "military-indonesian",
   "metadata": {},
   "outputs": [
    {
     "data": {
      "image/png": "[encoded data removed]",
      "text/plain": [
       "<Figure size 360x360 with 1 Axes>"
      ]
     },
     "metadata": {
      "needs_background": "light"
     },
     "output_type": "display_data"
    }
   ],
   "source": [
    "\n",
    "plt.hist(df['Organization_size'], bins = 7)\n",
    "plt.show()"
   ]
  },
  {
   "cell_type": "code",
   "execution_count": 125,
   "id": "alive-medium",
   "metadata": {},
   "outputs": [
    {
     "data": {
      "image/png": "[encoded data removed]",
      "text/plain": [
       "<Figure size 360x360 with 1 Axes>"
      ]
     },
     "metadata": {
      "needs_background": "light"
     },
     "output_type": "display_data"
    }
   ],
   "source": [
    "#Management_clarity\n",
    "\n",
    "mu, sigma = 6, 0.8 # mean and standard deviation\n",
    "df['Management_clarity'] = np.random.normal(mu, sigma, size = 1000)\n",
    "df['Management_clarity'] = df['Management_clarity'].round()\n",
    "plt.hist(df['Management_clarity'], bins = 10)\n",
    "plt.show()"
   ]
  },
  {
   "cell_type": "code",
   "execution_count": 130,
   "id": "canadian-terry",
   "metadata": {},
   "outputs": [
    {
     "data": {
      "image/png": "[encoded data removed]",
      "text/plain": [
       "<Figure size 360x360 with 1 Axes>"
      ]
     },
     "metadata": {
      "needs_background": "light"
     },
     "output_type": "display_data"
    }
   ],
   "source": [
    "#User_resistance\n",
    "\n",
    "mu, sigma = 2, 0.3 # mean and standard deviation\n",
    "df['User_resistance'] = np.random.normal(mu, sigma, size = 1000)\n",
    "df['User_resistance'] = df['User_resistance'].round()\n",
    "plt.hist(df['User_resistance'], bins = 5)\n",
    "plt.show()"
   ]
  },
  {
   "cell_type": "code",
   "execution_count": 131,
   "id": "incomplete-blowing",
   "metadata": {},
   "outputs": [
    {
     "data": {
      "image/png": "[encoded data removed]",
      "text/plain": [
       "<Figure size 360x360 with 1 Axes>"
      ]
     },
     "metadata": {
      "needs_background": "light"
     },
     "output_type": "display_data"
    }
   ],
   "source": [
    "#Software_licence_cost\n",
    "\n",
    "mu, sigma = 2000,500  # mean and standard deviation\n",
    "df['Software_licence_cost'] = np.random.normal(mu, sigma, size = 1000)\n",
    "df['Software_licence_cost'] = df['Software_licence_cost'].round()\n",
    "plt.hist(df['Software_licence_cost'], bins = 100)\n",
    "plt.show()"
   ]
  },
  {
   "cell_type": "code",
   "execution_count": 132,
   "id": "mature-relief",
   "metadata": {},
   "outputs": [
    {
     "data": {
      "image/png": "[encoded data removed]",
      "text/plain": [
       "<Figure size 360x360 with 1 Axes>"
      ]
     },
     "metadata": {
      "needs_background": "light"
     },
     "output_type": "display_data"
    }
   ],
   "source": [
    "#hardware_cost\n",
    "\n",
    "mu, sigma = 3500,300  # mean and standard deviation\n",
    "df['hardware_cost'] = np.random.normal(mu, sigma, size = 1000)\n",
    "df['hardware_cost'] = df['hardware_cost'].round()\n",
    "plt.hist(df['hardware_cost'], bins = 100)\n",
    "plt.show()"
   ]
  },
  {
   "cell_type": "code",
   "execution_count": 133,
   "id": "conventional-cambodia",
   "metadata": {},
   "outputs": [
    {
     "data": {
      "image/png": "[encoded data removed]",
      "text/plain": [
       "<Figure size 360x360 with 1 Axes>"
      ]
     },
     "metadata": {
      "needs_background": "light"
     },
     "output_type": "display_data"
    }
   ],
   "source": [
    "# maintainance_cost\n",
    "\n",
    "\n",
    "mu, sigma = 1500,200  # mean and standard deviation\n",
    "df['maintainance_cost'] = np.random.normal(mu, sigma, size = 1000)\n",
    "df['maintainance_cost'] = df['maintainance_cost'].round()\n",
    "plt.hist(df['maintainance_cost'], bins = 100)\n",
    "plt.show()"
   ]
  },
  {
   "cell_type": "code",
   "execution_count": 134,
   "id": "comfortable-steam",
   "metadata": {},
   "outputs": [
    {
     "data": {
      "image/png": "[encoded data removed]",
      "text/plain": [
       "<Figure size 360x360 with 1 Axes>"
      ]
     },
     "metadata": {
      "needs_background": "light"
     },
     "output_type": "display_data"
    }
   ],
   "source": [
    "# Additional_cost\n",
    "\n",
    "\n",
    "mu, sigma = 500,60  # mean and standard deviation\n",
    "df['Additional_cost'] = np.random.normal(mu, sigma, size = 1000)\n",
    "df['Additional_cost'] = df['Additional_cost'].round()\n",
    "plt.hist(df['Additional_cost'], bins = 100)\n",
    "plt.show()"
   ]
  },
  {
   "cell_type": "code",
   "execution_count": 135,
   "id": "instructional-brave",
   "metadata": {},
   "outputs": [],
   "source": [
    "# Cloud features\n",
    "\n",
    "p1=[0.4, 0.15, 0.1, 0.08, 0.12, 0.15]\n",
    "p2=[0.2, 0.1, 0.35, 0.2, 0.15]\n",
    "\n",
    "df['Cloud_platform_type'] = np.random.choice(cloud_platform_types, 1000, p1)\n",
    "df['Computing_Tier'] =  np.random.choice(cloud_tiers, 1000, p2)"
   ]
  },
  {
   "cell_type": "code",
   "execution_count": 136,
   "id": "spiritual-bookmark",
   "metadata": {},
   "outputs": [
    {
     "data": {
      "text/plain": [
       "<AxesSubplot:ylabel='None'>"
      ]
     },
     "execution_count": 136,
     "metadata": {},
     "output_type": "execute_result"
    },
    {
     "data": {
      "image/png": "[encoded data removed]",
      "text/plain": [
       "<Figure size 360x360 with 1 Axes>"
      ]
     },
     "metadata": {},
     "output_type": "display_data"
    }
   ],
   "source": [
    "df.groupby('Cloud_platform_type').size().plot(kind='pie', autopct='%.2f')"
   ]
  },
  {
   "cell_type": "code",
   "execution_count": 137,
   "id": "judicial-handling",
   "metadata": {},
   "outputs": [
    {
     "data": {
      "text/plain": [
       "<AxesSubplot:ylabel='None'>"
      ]
     },
     "execution_count": 137,
     "metadata": {},
     "output_type": "execute_result"
    },
    {
     "data": {
      "image/png": "[encoded data removed]",
      "text/plain": [
       "<Figure size 360x360 with 1 Axes>"
      ]
     },
     "metadata": {},
     "output_type": "display_data"
    }
   ],
   "source": [
    "df.groupby('Computing_Tier').size().plot(kind='pie', autopct='%.2f')"
   ]
  },
  {
   "cell_type": "code",
   "execution_count": 138,
   "id": "dramatic-solomon",
   "metadata": {},
   "outputs": [
    {
     "data": {
      "image/png": "[encoded data removed]",
      "text/plain": [
       "<Figure size 360x360 with 1 Axes>"
      ]
     },
     "metadata": {
      "needs_background": "light"
     },
     "output_type": "display_data"
    }
   ],
   "source": [
    "# Requirement_stability\n",
    "\n",
    "mu, sigma = 3,1  # mean and standard deviation\n",
    "df['Requirement_stability'] = np.random.normal(mu, sigma, size = 1000)\n",
    "df['Requirement_stability'] = df['Requirement_stability'].round()\n",
    "plt.hist(df['Requirement_stability'], bins = 5)\n",
    "plt.show()\n",
    "\n"
   ]
  },
  {
   "cell_type": "code",
   "execution_count": 139,
   "id": "directed-median",
   "metadata": {},
   "outputs": [
    {
     "data": {
      "image/png": "[encoded data removed]",
      "text/plain": [
       "<Figure size 1440x1440 with 5 Axes>"
      ]
     },
     "metadata": {
      "needs_background": "light"
     },
     "output_type": "display_data"
    }
   ],
   "source": [
    "# Team Manager_experience, Development_team_experience, Maintanainance_support_team_experience, Machine_learning_team_experience, Data_Analysis_team experience\n",
    "\n",
    "\n",
    "mu, sigma = 7,2  # mean and standard deviation\n",
    "df['Manager_experience'] = np.random.normal(mu, sigma, size = 1000)\n",
    "df['Manager_experience'] = df['Manager_experience'].round()\n",
    "\n",
    "df['Development_team_experience'] = np.random.normal(mu, sigma, size = 1000)\n",
    "df['Development_team_experience'] = df['Development_team_experience'].round()\n",
    "\n",
    "df['Maintanainance_support_team_experience'] = np.random.normal(mu, sigma, size = 1000)\n",
    "df['Maintanainance_support_team_experience'] = df['Maintanainance_support_team_experience'].round()\n",
    "\n",
    "df['Machine_learning_team_experience'] = np.random.normal(mu, sigma, size = 1000)\n",
    "df['Machine_learning_team_experience'] = df['Machine_learning_team_experience'].round()\n",
    "\n",
    "df['Data_Analysis_team experience'] = np.random.normal(mu, sigma, size = 1000)\n",
    "df['Data_Analysis_team experience'] = df['Data_Analysis_team experience'].round()\n",
    "\n",
    "plt.rcParams[\"figure.figsize\"] = (20,20)\n",
    "\n",
    "plt.subplot(2,3,1)\n",
    "plt.hist(df['Manager_experience'], bins = 10)\n",
    "\n",
    "plt.subplot(2,3,2)\n",
    "plt.hist(df['Development_team_experience'], bins = 10)\n",
    "\n",
    "plt.subplot(2,3,3)\n",
    "plt.hist(df['Maintanainance_support_team_experience'], bins = 10)\n",
    "\n",
    "plt.subplot(2,3,4)\n",
    "plt.hist(df['Machine_learning_team_experience'], bins = 10)\n",
    "\n",
    "plt.subplot(2,3,5)\n",
    "plt.hist(df['Data_Analysis_team experience'], bins = 10)\n",
    "\n",
    "\n",
    "\n",
    "plt.show()"
   ]
  },
  {
   "cell_type": "code",
   "execution_count": null,
   "id": "limiting-submission",
   "metadata": {},
   "outputs": [],
   "source": [
    "#Introducing correlation between features"
   ]
  },
  {
   "cell_type": "code",
   "execution_count": null,
   "id": "bearing-triangle",
   "metadata": {},
   "outputs": [],
   "source": [
    "# Analysing features"
   ]
  },
  {
   "cell_type": "code",
   "execution_count": null,
   "id": "neural-venezuela",
   "metadata": {},
   "outputs": [],
   "source": [
    "#Calculations for ROI costs and quantifying benefits"
   ]
  },
  {
   "cell_type": "code",
   "execution_count": null,
   "id": "disciplinary-obligation",
   "metadata": {},
   "outputs": [],
   "source": [
    "#Machine Learning Models"
   ]
  },
  {
   "cell_type": "code",
   "execution_count": 98,
   "id": "above-activation",
   "metadata": {},
   "outputs": [],
   "source": [
    "df.to_csv('test_data.csv')"
   ]
  },
  {
   "cell_type": "code",
   "execution_count": 33,
   "id": "ranging-employer",
   "metadata": {},
   "outputs": [],
   "source": [
    "data = pd.read_csv('test_data.csv')"
   ]
  },
  {
   "cell_type": "code",
   "execution_count": null,
   "id": "crazy-vampire",
   "metadata": {},
   "outputs": [],
   "source": []
  }
 ],
 "metadata": {
  "kernelspec": {
   "display_name": "Python 3",
   "language": "python",
   "name": "python3"
  },
  "language_info": {
   "codemirror_mode": {
    "name": "ipython",
    "version": 3
   },
   "file_extension": ".py",
   "mimetype": "text/x-python",
   "name": "python",
   "nbconvert_exporter": "python",
   "pygments_lexer": "ipython3",
   "version": "3.9.1"
  }
 },
 "nbformat": 4,
 "nbformat_minor": 5
}
