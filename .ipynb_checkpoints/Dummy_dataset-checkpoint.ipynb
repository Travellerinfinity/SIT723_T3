{
 "cells": [
  {
   "cell_type": "code",
   "execution_count": 30,
   "id": "junior-treaty",
   "metadata": {},
   "outputs": [],
   "source": [
    "import pandas as pd \n",
    "import numpy as np\n",
    "import datetime as dt\n",
    "import random\n"
   ]
  },
  {
   "cell_type": "code",
   "execution_count": 31,
   "id": "refined-football",
   "metadata": {},
   "outputs": [],
   "source": [
    "columns = ['Project_ID','Organization','Project_start_date','Project_end_date','Organization_size','IT_dpt_size',\n",
    "           'Customer_type','Estimated_Duration','Actual_Duration','Project_Profit_Loss_percent','Project_type',\n",
    "           'Development_type','Estimated_effort','Actual_effort','Management_clarity','Training_effort','User_resistance',\n",
    "           'Software_licence_cost','hardware_cost','Development_cost','maintainance_cost','Additional_cost',\n",
    "           'Estimated_total_cost','Actual_total_cost','Requirement_stability','Manager_experience','Development_team_experience',\n",
    "           'Maintanainance_support_team_experience','Machine_learning_team_experience','Data_Analysis_team experience',\n",
    "           'Team_size','Daily_work_hours','Level_of_outsourcing','Software_availability','Software_accuracy',\n",
    "           'Software_stability','Programming_language_used','DB_used','Open_source_tool_used','Degree_of_software_reuse',\n",
    "           'Increase_in_productivity','Change_in_waiting_time','Change_avg_wait_time','Change_avg_call_duration',\n",
    "           'Change_in_revenue','Overall_ROI']"
   ]
  },
  {
   "cell_type": "code",
   "execution_count": 32,
   "id": "indirect-director",
   "metadata": {},
   "outputs": [],
   "source": [
    "df = pd.DataFrame(columns= columns)"
   ]
  },
  {
   "cell_type": "code",
   "execution_count": 33,
   "id": "cutting-singles",
   "metadata": {},
   "outputs": [
    {
     "data": {
      "text/plain": [
       "(0, 46)"
      ]
     },
     "execution_count": 33,
     "metadata": {},
     "output_type": "execute_result"
    }
   ],
   "source": [
    "df.shape"
   ]
  },
  {
   "cell_type": "code",
   "execution_count": 34,
   "id": "academic-battlefield",
   "metadata": {},
   "outputs": [],
   "source": [
    "organizations = {#Company : Organization size 0, IT_dept_size 1, Customer_type 2, Management clarity 3, development cost 4, \n",
    "    # maintainance cost 5, additional cost 6, user resistance 7, Manager experience 8, Development Team experience 9, \n",
    "    #Maintainance support experience 10, machine learning team experience 11, data analysis team experience 12, team size 13, \n",
    "    #daily work hours 14, level of outsourcing 15, \n",
    "                'Company_1':[2,2,1,7,7,6,2,3,5,7,6,8,7,24,8,5],\n",
    "                'Company_2':[5,5,2,7,7,6,2,3,5,8,6,8,7, 6,8,2],\n",
    "                'Company_3':[4,4,3,7,7,6,2,3,5,4,6,8,7,12,8,3],\n",
    "                'Company_4':[2,2,4,7,7,6,2,3,5,6,6,8,7,14,8,1],\n",
    "                'Company_5':[5,5,5,7,7,6,2,3,5,5,6,8,7,44,8,5],\n",
    "                'Company_6':[4,4,6,7,7,6,2,3,5,8,6,8,7,20,8,4],\n",
    "                'Company_7':[3,3,7,7,7,6,2,3,5,6,6,8,7, 8,8,2]\n",
    "}\n",
    "\n",
    "projects = {#project type : 'Software_availability' 0,'Software_accuracy' 1,'Software_stability' 2,'Programming_language_used' 3,\n",
    "    #'DB_used' 4,'Open_source_tool_used' 5,'Degree_of_software_reuse 6'\n",
    "    'button-based':              [85,90,80,'Python','Oracle','T1',6],\n",
    "    'Linguistic Based':          [90,72,82,'Python','MySQL' ,'T2',7],\n",
    "    'Keyword recognition-based': [85,85,70,'R','MySQL','T3',6],\n",
    "    'Machine Learning chatbot':  [95,85,75,'Java','MongoDB','T3',4],\n",
    "    'Hybrid model':              [75,90,95,'Java','Oracle','T4',5],\n",
    "    'Voice Bots':                [80,65,75,'ASP.Net','PLSQL','T5',6]\n",
    "}\n",
    "\n",
    "development_types = ['Waterfall','Feature-Driven','Agile','Scrum','Extreme Programming','Lean']\n",
    "    \n"
   ]
  },
  {
   "cell_type": "code",
   "execution_count": 36,
   "id": "infinite-meeting",
   "metadata": {},
   "outputs": [],
   "source": [
    "for i in range(1000):\n",
    "    organization = random.choice(list(organizations.keys()))\n",
    "    organization_size = organizations[organization][0]\n",
    "    it_dept_size = organizations[organization][1]\n",
    "    customer_type = organizations[organization][2]\n",
    "    management_clarity = organizations[organization][3] \n",
    "    development_cost = organizations[organization][4] \n",
    "    maintainance_cost = organizations[organization][5] \n",
    "    additional_cost = organizations[organization][6]  \n",
    "    user_resistance = organizations[organization][7] \n",
    "    manager_experience = organizations[organization][8] \n",
    "    development_team_experience = organizations[organization][9] \n",
    "    maintainance_support_experience = organizations[organization][10] \n",
    "    machine_learning_team_experience = organizations[organization][11]\n",
    "    data_analysis_team_experience = organizations[organization][12] \n",
    "    team_size = organizations[organization][13] \n",
    "    daily_work_hours = organizations[organization][14] \n",
    "    level_of_outsourcing = organizations[organization][15]\n",
    "    \n",
    "    project = random.choice(list(projects.keys()))\n",
    "    software_availability = projects[project][0]\n",
    "    software_accuracy = projects[project][1]\n",
    "    software_stability = projects[project][2]\n",
    "    programming_language_used = projects[project][3]\n",
    "    db_used = projects[project][4]\n",
    "    open_source_tool_used = projects[project][5]\n",
    "    degree_of_software_reuse = projects[project][6]\n",
    "    \n",
    "    increase_in_productivity = random.randint(0, 100)\n",
    "    change_in_waiting_time = random.randint(-100, 100)\n",
    "    change_avg_call_duration = random.randint(-100, 100)\n",
    "    change_in_revenue = random.randint(-100, 100)\n",
    "    development_type = random.choice(development_types)\n",
    "    \n",
    "    start_date = dt.date(2019, 1, 1)\n",
    "    end_date = dt.date(2022, 12, 31)\n",
    "\n",
    "    time_between_dates = end_date - start_date\n",
    "    days_between_dates = time_between_dates.days\n",
    "    random_number_of_days = random.randrange(days_between_dates)\n",
    "    project_start_date = start_date + dt.timedelta(days=random_number_of_days)\n",
    "    project_end_date = project_start_date + dt.timedelta(days=random_number_of_days)\n",
    "    \n",
    "    actual_duration = random_number_of_days\n",
    "    \n",
    "\n",
    "    \n",
    "    df.loc[i] = [i,organization,project_start_date,project_end_date,organization_size, it_dept_size, customer_type,\"NA\",actual_duration,\"NA\",project,development_type,\n",
    "                 \"NA\",\"NA\",management_clarity,\"NA\",user_resistance,\"NA\",\"NA\",development_cost,maintainance_cost,additional_cost,\"NA\",\"NA\",\"NA\",manager_experience,\n",
    "                 development_team_experience,maintainance_support_experience,machine_learning_team_experience,data_analysis_team_experience,team_size,daily_work_hours,\n",
    "                 level_of_outsourcing,software_availability,software_accuracy,software_stability,programming_language_used,db_used,open_source_tool_used,degree_of_software_reuse,\n",
    "                 increase_in_productivity,change_in_waiting_time,change_in_waiting_time,change_avg_call_duration,change_in_revenue,\"NA\"]\n",
    "\n",
    " "
   ]
  },
  {
   "cell_type": "code",
   "execution_count": 37,
   "id": "committed-philippines",
   "metadata": {},
   "outputs": [],
   "source": [
    "df.to_csv('test_data.csv')"
   ]
  },
  {
   "cell_type": "code",
   "execution_count": null,
   "id": "hindu-morris",
   "metadata": {},
   "outputs": [],
   "source": []
  }
 ],
 "metadata": {
  "kernelspec": {
   "display_name": "Python 3",
   "language": "python",
   "name": "python3"
  },
  "language_info": {
   "codemirror_mode": {
    "name": "ipython",
    "version": 3
   },
   "file_extension": ".py",
   "mimetype": "text/x-python",
   "name": "python",
   "nbconvert_exporter": "python",
   "pygments_lexer": "ipython3",
   "version": "3.9.1"
  }
 },
 "nbformat": 4,
 "nbformat_minor": 5
}
